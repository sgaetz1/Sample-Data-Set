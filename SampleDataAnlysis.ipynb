{
 "cells": [
  {
   "cell_type": "code",
   "execution_count": null,
   "metadata": {},
   "outputs": [],
   "source": [
    "import pandas as pd\n",
    "\n",
    "sample_data_to_load = \"data/Utilimarc_Data.csv\"\n",
    "\n",
    "df = pd.read_csv(sample_data_to_load)\n",
    "\n",
    "pd.set_option('max_columns', None)\n",
    "\n",
    "df.head()"
   ]
  },
  {
   "cell_type": "code",
   "execution_count": null,
   "metadata": {},
   "outputs": [],
   "source": [
    "new_df = df[['Unit_Number', 'Utilimarc_Category', 'Age','Unit_GVWR', 'Purchase_Price_With_Tax', 'Mechanic_Labor_Cost', 'Parts_Cost', 'Fuel_Cost', 'Total_Cost', 'Annual_Mileage', 'Fuel_Gallons']]\n",
    "\n",
    "new_df.head()"
   ]
  },
  {
   "cell_type": "code",
   "execution_count": null,
   "metadata": {},
   "outputs": [],
   "source": [
    "new_df.describe()"
   ]
  },
  {
   "cell_type": "code",
   "execution_count": null,
   "metadata": {},
   "outputs": [],
   "source": [
    "cat_df = new_df.groupby(\"Utilimarc_Category\")\n",
    "avg_price = cat_df[\"Purchase_Price_With_Tax\"].mean()\n",
    "avg_price"
   ]
  },
  {
   "cell_type": "code",
   "execution_count": null,
   "metadata": {},
   "outputs": [],
   "source": [
    "avg_age = cat_df[\"Age\"].mean()\n",
    "avg_age"
   ]
  },
  {
   "cell_type": "code",
   "execution_count": null,
   "metadata": {},
   "outputs": [],
   "source": [
    "avg_mech_cost = cat_df[\"Mechanic_Labor_Cost\"].mean()\n",
    "avg_mech_cost"
   ]
  },
  {
   "cell_type": "code",
   "execution_count": null,
   "metadata": {},
   "outputs": [],
   "source": [
    "avg_parts_cost = cat_df[\"Parts_Cost\"].mean()\n",
    "avg_parts_cost"
   ]
  },
  {
   "cell_type": "code",
   "execution_count": null,
   "metadata": {},
   "outputs": [],
   "source": [
    "avg_fuel_cost = cat_df[\"Fuel_Cost\"].mean()\n",
    "avg_fuel_cost"
   ]
  },
  {
   "cell_type": "code",
   "execution_count": null,
   "metadata": {},
   "outputs": [],
   "source": [
    "avg_mileage = cat_df[\"Annual_Mileage\"].mean()\n",
    "avg_mileage"
   ]
  },
  {
   "cell_type": "code",
   "execution_count": null,
   "metadata": {},
   "outputs": [],
   "source": [
    "avg_fuel_gal = cat_df[\"Fuel_Gallons\"].mean()\n",
    "avg_fuel_gal"
   ]
  },
  {
   "cell_type": "code",
   "execution_count": null,
   "metadata": {},
   "outputs": [],
   "source": [
    "avg_total_cost = cat_df[\"Total_Cost\"].mean()\n",
    "avg_total_cost"
   ]
  },
  {
   "cell_type": "code",
   "execution_count": null,
   "metadata": {},
   "outputs": [],
   "source": [
    "avg_mileage = cat_df[\"Annual_Mileage\"].mean()\n",
    "avg_mileage"
   ]
  },
  {
   "cell_type": "code",
   "execution_count": null,
   "metadata": {},
   "outputs": [],
   "source": [
    "avg_price = cat_df[\"Purchase_Price_With_Tax\"].mean()\n",
    "avg_price"
   ]
  },
  {
   "cell_type": "code",
   "execution_count": null,
   "metadata": {},
   "outputs": [],
   "source": [
    "avg_df = pd.DataFrame([avg_age, avg_price, avg_mech_cost, avg_parts_cost, avg_fuel_cost, avg_mileage, avg_fuel_gal, avg_total_cost ])\n",
    "avg_df = avg_df.T\n",
    "avg_df.round(2)"
   ]
  },
  {
   "cell_type": "code",
   "execution_count": null,
   "metadata": {},
   "outputs": [],
   "source": [
    "pd.plotting.scatter_matrix(new_df, figsize = (15,15))"
   ]
  },
  {
   "cell_type": "code",
   "execution_count": null,
   "metadata": {},
   "outputs": [],
   "source": []
  }
 ],
 "metadata": {
  "kernelspec": {
   "display_name": "Python 3",
   "language": "python",
   "name": "python3"
  },
  "language_info": {
   "codemirror_mode": {
    "name": "ipython",
    "version": 3
   },
   "file_extension": ".py",
   "mimetype": "text/x-python",
   "name": "python",
   "nbconvert_exporter": "python",
   "pygments_lexer": "ipython3",
   "version": "3.6.10"
  }
 },
 "nbformat": 4,
 "nbformat_minor": 4
}
