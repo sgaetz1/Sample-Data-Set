{
 "cells": [
  {
   "cell_type": "markdown",
   "metadata": {},
   "source": [
    "# Bring in the data and look at the first 5 rows"
   ]
  },
  {
   "cell_type": "code",
   "execution_count": null,
   "metadata": {},
   "outputs": [],
   "source": [
    "import pandas as pd\n",
    "\n",
    "sample_data_to_load = \"data/clean_data.csv\"\n",
    "\n",
    "df = pd.read_csv(sample_data_to_load)\n",
    "\n",
    "pd.set_option('max_columns', None)\n",
    "\n",
    "df.head()"
   ]
  },
  {
   "cell_type": "markdown",
   "metadata": {},
   "source": [
    "# Create a new data frame with the categories of interest"
   ]
  },
  {
   "cell_type": "code",
   "execution_count": null,
   "metadata": {},
   "outputs": [],
   "source": [
    "new_df = df[['Unit_Number', 'Utilimarc_Category', 'Age','Unit_GVWR', 'Purchase_Price_With_Tax', 'Lease_Cost', 'Interest_Cost', 'License_Cost','Mechanic_Labor_Cost', 'Vendor_Cost', 'Parts_Cost', 'Fuel_Cost', 'Other','Overhead_Cost', 'Total_Cost', 'Annual_Mileage', 'Fuel_Gallons']]\n",
    "\n",
    "new_df.head()"
   ]
  },
  {
   "cell_type": "code",
   "execution_count": null,
   "metadata": {},
   "outputs": [],
   "source": [
    "#some descriptive statistics\n",
    "new_df.describe()"
   ]
  },
  {
   "cell_type": "code",
   "execution_count": null,
   "metadata": {},
   "outputs": [],
   "source": [
    "#scatterplot matrix to explore some relationships\n",
    "pd.plotting.scatter_matrix(new_df, figsize = (15,15))"
   ]
  },
  {
   "cell_type": "markdown",
   "metadata": {},
   "source": [
    "# Group by category"
   ]
  },
  {
   "cell_type": "code",
   "execution_count": null,
   "metadata": {},
   "outputs": [],
   "source": [
    "cat_df = new_df.groupby(\"Utilimarc_Category\")\n",
    "avg_price = cat_df[\"Purchase_Price_With_Tax\"].mean()\n",
    "avg_price"
   ]
  },
  {
   "cell_type": "code",
   "execution_count": null,
   "metadata": {},
   "outputs": [],
   "source": [
    "avg_age = cat_df[\"Age\"].mean()\n",
    "avg_age"
   ]
  },
  {
   "cell_type": "code",
   "execution_count": null,
   "metadata": {},
   "outputs": [],
   "source": [
    "avg_mech_cost = cat_df[\"Mechanic_Labor_Cost\"].mean()\n",
    "avg_mech_cost"
   ]
  },
  {
   "cell_type": "code",
   "execution_count": null,
   "metadata": {},
   "outputs": [],
   "source": [
    "avg_lease_cost = cat_df[\"Lease_Cost\"].mean()\n",
    "avg_lease_cost"
   ]
  },
  {
   "cell_type": "code",
   "execution_count": null,
   "metadata": {},
   "outputs": [],
   "source": [
    "avg_interest_cost = cat_df[\"Interest_Cost\"].mean()\n",
    "avg_interest_cost"
   ]
  },
  {
   "cell_type": "code",
   "execution_count": null,
   "metadata": {},
   "outputs": [],
   "source": [
    "avg_license_cost = cat_df[\"License_Cost\"].mean()\n",
    "avg_license_cost"
   ]
  },
  {
   "cell_type": "code",
   "execution_count": null,
   "metadata": {},
   "outputs": [],
   "source": [
    "avg_vendor_cost = cat_df[\"Vendor_Cost\"].mean()\n",
    "avg_vendor_cost"
   ]
  },
  {
   "cell_type": "code",
   "execution_count": null,
   "metadata": {},
   "outputs": [],
   "source": [
    "avg_other_cost = cat_df[\"Other\"].mean()\n",
    "avg_other_cost"
   ]
  },
  {
   "cell_type": "code",
   "execution_count": null,
   "metadata": {},
   "outputs": [],
   "source": [
    "avg_overhead_cost = cat_df[\"Overhead_Cost\"].mean()\n",
    "avg_overhead_cost"
   ]
  },
  {
   "cell_type": "code",
   "execution_count": null,
   "metadata": {},
   "outputs": [],
   "source": [
    "avg_parts_cost = cat_df[\"Parts_Cost\"].mean()\n",
    "avg_parts_cost"
   ]
  },
  {
   "cell_type": "code",
   "execution_count": null,
   "metadata": {},
   "outputs": [],
   "source": [
    "avg_fuel_cost = cat_df[\"Fuel_Cost\"].mean()\n",
    "avg_fuel_cost"
   ]
  },
  {
   "cell_type": "code",
   "execution_count": null,
   "metadata": {},
   "outputs": [],
   "source": [
    "avg_mileage = cat_df[\"Annual_Mileage\"].mean()\n",
    "avg_mileage"
   ]
  },
  {
   "cell_type": "code",
   "execution_count": null,
   "metadata": {},
   "outputs": [],
   "source": [
    "avg_fuel_gal = cat_df[\"Fuel_Gallons\"].mean()\n",
    "avg_fuel_gal"
   ]
  },
  {
   "cell_type": "code",
   "execution_count": null,
   "metadata": {},
   "outputs": [],
   "source": [
    "avg_total_cost = cat_df[\"Total_Cost\"].mean()\n",
    "avg_total_cost"
   ]
  },
  {
   "cell_type": "code",
   "execution_count": null,
   "metadata": {},
   "outputs": [],
   "source": [
    "avg_mileage = cat_df[\"Annual_Mileage\"].mean()\n",
    "avg_mileage"
   ]
  },
  {
   "cell_type": "code",
   "execution_count": null,
   "metadata": {},
   "outputs": [],
   "source": [
    "avg_price = cat_df[\"Purchase_Price_With_Tax\"].mean()\n",
    "avg_price"
   ]
  },
  {
   "cell_type": "code",
   "execution_count": null,
   "metadata": {},
   "outputs": [],
   "source": [
    "avg_df = pd.DataFrame([avg_age, avg_price, avg_lease_cost, avg_interest_cost, avg_license_cost, avg_vendor_cost, avg_other_cost, avg_overhead_cost, avg_mech_cost, avg_parts_cost, avg_fuel_cost, avg_mileage, avg_fuel_gal, avg_total_cost ])\n",
    "avg_df = avg_df.T\n",
    "avg_df.round(2)"
   ]
  },
  {
   "cell_type": "markdown",
   "metadata": {},
   "source": [
    "# Fuel economy for vehicles\n"
   ]
  },
  {
   "cell_type": "code",
   "execution_count": null,
   "metadata": {},
   "outputs": [],
   "source": [
    "#Making sure there are no zeros in Fuel Gallons and Annual Mileage column before calculating Fuel Economy\n",
    "new_df = new_df.loc[new_df[\"Fuel_Gallons\"] != 0]\n",
    "new_df = new_df.loc[new_df[\"Annual_Mileage\"] != 0]\n",
    "new_df[\"Fuel_Econ\"] = new_df[\"Annual_Mileage\"] / new_df[\"Fuel_Gallons\"]\n",
    "new_df.dropna(how='any')\n",
    "new_df.head()"
   ]
  },
  {
   "cell_type": "code",
   "execution_count": null,
   "metadata": {},
   "outputs": [],
   "source": [
    "#Creating two groups in the Age category to compare newer vs. older vehicles\n",
    "bins = [0, 6, 60]\n",
    "group_names = [\"New (0-5)\", \"Old (6-60)\"]\n",
    "new_df[\"Age\"] = pd.cut(new_df[\"Age\"], bins, labels=group_names, include_lowest = True)\n",
    "new_df.head()"
   ]
  },
  {
   "cell_type": "code",
   "execution_count": null,
   "metadata": {},
   "outputs": [],
   "source": [
    "#Taking just the Vehicle category\n",
    "new_df = new_df.loc[new_df[\"Utilimarc_Category\"] == 'Vehicle']\n",
    "new_df_group = new_df.groupby(\"Age\")\n",
    "new_df_group.head()\n",
    "units_per_bin = new_df_group[\"Unit_Number\"].count()\n",
    "units_per_bin\n"
   ]
  },
  {
   "cell_type": "code",
   "execution_count": null,
   "metadata": {},
   "outputs": [],
   "source": [
    "avg_econ = new_df_group[\"Fuel_Econ\"].mean()\n",
    "avg_econ"
   ]
  },
  {
   "cell_type": "code",
   "execution_count": null,
   "metadata": {},
   "outputs": [],
   "source": [
    "avg_parts_cost = new_df_group[\"Parts_Cost\"].mean()\n",
    "avg_parts_cost"
   ]
  },
  {
   "cell_type": "code",
   "execution_count": null,
   "metadata": {},
   "outputs": [],
   "source": [
    "avg_mech_labor= new_df_group[\"Mechanic_Labor_Cost\"].mean()\n",
    "avg_mech_labor"
   ]
  },
  {
   "cell_type": "code",
   "execution_count": null,
   "metadata": {},
   "outputs": [],
   "source": [
    "avg_total_cost = new_df_group[\"Total_Cost\"].mean()\n",
    "avg_total_cost"
   ]
  },
  {
   "cell_type": "code",
   "execution_count": null,
   "metadata": {},
   "outputs": [],
   "source": [
    "avg_fuel_cost = new_df_group[\"Fuel_Cost\"].mean()\n",
    "avg_fuel_cost"
   ]
  },
  {
   "cell_type": "code",
   "execution_count": null,
   "metadata": {},
   "outputs": [],
   "source": [
    "avg_mileage = new_df_group[\"Annual_Mileage\"].mean()\n",
    "avg_mileage"
   ]
  },
  {
   "cell_type": "code",
   "execution_count": null,
   "metadata": {},
   "outputs": [],
   "source": [
    "avg_lease_cost = new_df_group[\"Lease_Cost\"].mean()\n",
    "avg_lease_cost"
   ]
  },
  {
   "cell_type": "code",
   "execution_count": null,
   "metadata": {},
   "outputs": [],
   "source": [
    "avg_interest_cost = new_df_group[\"Interest_Cost\"].mean()\n",
    "avg_interest_cost"
   ]
  },
  {
   "cell_type": "code",
   "execution_count": null,
   "metadata": {},
   "outputs": [],
   "source": [
    "avg_df2 = pd.DataFrame([avg_econ, avg_parts_cost, avg_mech_labor, avg_total_cost, avg_fuel_cost, avg_mileage, avg_lease_cost, avg_interest_cost])\n",
    "avg_df2 = avg_df2.T\n",
    "avg_df2.round(2)"
   ]
  },
  {
   "cell_type": "code",
   "execution_count": null,
   "metadata": {},
   "outputs": [],
   "source": []
  },
  {
   "cell_type": "code",
   "execution_count": null,
   "metadata": {},
   "outputs": [],
   "source": []
  }
 ],
 "metadata": {
  "kernelspec": {
   "display_name": "Python 3",
   "language": "python",
   "name": "python3"
  },
  "language_info": {
   "codemirror_mode": {
    "name": "ipython",
    "version": 3
   },
   "file_extension": ".py",
   "mimetype": "text/x-python",
   "name": "python",
   "nbconvert_exporter": "python",
   "pygments_lexer": "ipython3",
   "version": "3.6.10"
  }
 },
 "nbformat": 4,
 "nbformat_minor": 4
}
